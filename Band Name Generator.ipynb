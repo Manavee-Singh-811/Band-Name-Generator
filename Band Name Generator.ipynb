{
 "cells": [
  {
   "cell_type": "markdown",
   "id": "7de5fee1",
   "metadata": {},
   "source": [
    "# Band Name Generator"
   ]
  },
  {
   "cell_type": "code",
   "execution_count": 1,
   "id": "a8d8dff9",
   "metadata": {},
   "outputs": [
    {
     "name": "stdout",
     "output_type": "stream",
     "text": [
      "Welcome to the Band Name Generator\n"
     ]
    }
   ],
   "source": [
    "print(\"Welcome to the Band Name Generator\")"
   ]
  },
  {
   "cell_type": "code",
   "execution_count": 3,
   "id": "cbeac4c2",
   "metadata": {},
   "outputs": [
    {
     "name": "stdout",
     "output_type": "stream",
     "text": [
      "Enter the city you grew up in.\n",
      "\n",
      "Enter the name of your pet.\n",
      "\n"
     ]
    }
   ],
   "source": [
    "city=input(\"Enter the city you grew up in.\\n\")\n",
    "pet= input(\"Enter the name of your pet.\\n\")"
   ]
  },
  {
   "cell_type": "code",
   "execution_count": 4,
   "id": "ee013c77",
   "metadata": {},
   "outputs": [
    {
     "name": "stdout",
     "output_type": "stream",
     "text": [
      "Your band name can be  \n"
     ]
    }
   ],
   "source": [
    "print(\"Your band name can be %s %s\"%(city, pet))"
   ]
  },
  {
   "cell_type": "code",
   "execution_count": null,
   "id": "4c6d54f2",
   "metadata": {},
   "outputs": [],
   "source": []
  }
 ],
 "metadata": {
  "kernelspec": {
   "display_name": "Python 3 (ipykernel)",
   "language": "python",
   "name": "python3"
  },
  "language_info": {
   "codemirror_mode": {
    "name": "ipython",
    "version": 3
   },
   "file_extension": ".py",
   "mimetype": "text/x-python",
   "name": "python",
   "nbconvert_exporter": "python",
   "pygments_lexer": "ipython3",
   "version": "3.9.7"
  }
 },
 "nbformat": 4,
 "nbformat_minor": 5
}
