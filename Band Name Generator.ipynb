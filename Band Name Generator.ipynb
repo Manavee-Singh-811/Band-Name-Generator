{
 "cells": [
  {
   "cell_type": "markdown",
   "id": "1b475a36",
   "metadata": {},
   "source": [
    "# Band Name Generator"
   ]
  },
  {
   "cell_type": "code",
   "execution_count": 5,
   "id": "675281e3",
   "metadata": {},
   "outputs": [
    {
     "name": "stdout",
     "output_type": "stream",
     "text": [
      "Welcome to the Band Name Generator\n"
     ]
    }
   ],
   "source": [
    "print(\"Welcome to the Band Name Generator\")"
   ]
  },
  {
   "cell_type": "code",
   "execution_count": 6,
   "id": "acbbbeb1",
   "metadata": {},
   "outputs": [
    {
     "name": "stdout",
     "output_type": "stream",
     "text": [
      "Enter the city you grew up in.\n",
      "Delhi\n",
      "Enter the name of your pet.\n",
      "Draco\n"
     ]
    }
   ],
   "source": [
    "city=input(\"Enter the city you grew up in.\\n\")\n",
    "pet= input(\"Enter the name of your pet.\\n\")"
   ]
  },
  {
   "cell_type": "code",
   "execution_count": 7,
   "id": "b7de6bff",
   "metadata": {},
   "outputs": [
    {
     "name": "stdout",
     "output_type": "stream",
     "text": [
      "Your band name can be Delhi Draco\n"
     ]
    }
   ],
   "source": [
    "print(\"Your band name can be %s %s\"%(city, pet))"
   ]
  }
 ],
 "metadata": {
  "kernelspec": {
   "display_name": "Python 3 (ipykernel)",
   "language": "python",
   "name": "python3"
  },
  "language_info": {
   "codemirror_mode": {
    "name": "ipython",
    "version": 3
   },
   "file_extension": ".py",
   "mimetype": "text/x-python",
   "name": "python",
   "nbconvert_exporter": "python",
   "pygments_lexer": "ipython3",
   "version": "3.9.7"
  }
 },
 "nbformat": 4,
 "nbformat_minor": 5
}
